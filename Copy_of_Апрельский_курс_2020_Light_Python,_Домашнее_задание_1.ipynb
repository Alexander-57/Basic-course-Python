{
  "nbformat": 4,
  "nbformat_minor": 0,
  "metadata": {
    "kernelspec": {
      "display_name": "Python 3",
      "language": "python",
      "name": "python3"
    },
    "language_info": {
      "codemirror_mode": {
        "name": "ipython",
        "version": 3
      },
      "file_extension": ".py",
      "mimetype": "text/x-python",
      "name": "python",
      "nbconvert_exporter": "python",
      "pygments_lexer": "ipython3",
      "version": "3.6.8"
    },
    "colab": {
      "name": "Copy of Апрельский курс 2020. Light. Python, Домашнее задание 1",
      "provenance": [],
      "collapsed_sections": [],
      "include_colab_link": true
    }
  },
  "cells": [
    {
      "cell_type": "markdown",
      "metadata": {
        "id": "view-in-github",
        "colab_type": "text"
      },
      "source": [
        "<a href=\"https://colab.research.google.com/github/Alexander-57/Basic-course-Python/blob/master/Copy_of_%D0%90%D0%BF%D1%80%D0%B5%D0%BB%D1%8C%D1%81%D0%BA%D0%B8%D0%B9_%D0%BA%D1%83%D1%80%D1%81_2020_Light_Python%2C_%D0%94%D0%BE%D0%BC%D0%B0%D1%88%D0%BD%D0%B5%D0%B5_%D0%B7%D0%B0%D0%B4%D0%B0%D0%BD%D0%B8%D0%B5_1.ipynb\" target=\"_parent\"><img src=\"https://colab.research.google.com/assets/colab-badge.svg\" alt=\"Open In Colab\"/></a>"
      ]
    },
    {
      "cell_type": "markdown",
      "metadata": {
        "id": "U7hoFvcehdnc",
        "colab_type": "text"
      },
      "source": [
        "## Домашнее задание 1. Введение в Python."
      ]
    },
    {
      "cell_type": "markdown",
      "metadata": {
        "id": "0cQ01NCnkysR",
        "colab_type": "text"
      },
      "source": [
        "## Light версия"
      ]
    },
    {
      "cell_type": "markdown",
      "metadata": {
        "id": "bW_kKRKthdn7",
        "colab_type": "text"
      },
      "source": [
        "### Задача 1\n",
        "\n",
        "С помощью функции input считайте с входящей строки два целых числа и выведите их сумму, разность, произведение."
      ]
    },
    {
      "cell_type": "code",
      "metadata": {
        "id": "ncbpypGALLqs",
        "colab_type": "code",
        "outputId": "c607a33b-2610-4356-a8b6-15e13e631d25",
        "colab": {
          "base_uri": "https://localhost:8080/",
          "height": 102
        }
      },
      "source": [
        "n1 = int(input('Введите первое целое число: '))\n",
        "n2 = int(input('Введите второе целое число: '))\n",
        "print('Сумма чисел равна: ', n1 + n2)\n",
        "print('Разность чисел равна: ', n1 - n2)\n",
        "print('Произведение числе равно: ', n1 * n2)"
      ],
      "execution_count": 0,
      "outputs": [
        {
          "output_type": "stream",
          "text": [
            "Введите первое целое число: 1\n",
            "Введите второе целое число: 2\n",
            "Сумма чисел равна:  3\n",
            "Разность чисел равна:  -1\n",
            "Произведение числе равно:  2\n"
          ],
          "name": "stdout"
        }
      ]
    },
    {
      "cell_type": "markdown",
      "metadata": {
        "id": "PguJdnEqhdoI",
        "colab_type": "text"
      },
      "source": [
        "### Задача 2\n",
        "\n",
        "Дан ряд целых чисел от 10 до 25 включительно. Используя цикл for, выведите на экран сумму двух последовательно идущих чисел.\n",
        "\n",
        "\n",
        "**Пример**: \n",
        "\n",
        "для ряда от 2 до 6 включительно выдача выглядит так: \n",
        "\n",
        "5\n",
        "\n",
        "7\n",
        "\n",
        "9\n",
        "\n",
        "11\n"
      ]
    },
    {
      "cell_type": "code",
      "metadata": {
        "id": "ijEf7BZfPOnp",
        "colab_type": "code",
        "outputId": "c50847cc-d6cc-43d3-ffd7-f126948143df",
        "colab": {
          "base_uri": "https://localhost:8080/",
          "height": 273
        }
      },
      "source": [
        "for i in range(10, 25):\n",
        "  n = 2 * i + 1\n",
        "  i += 1\n",
        "  print(n)"
      ],
      "execution_count": 0,
      "outputs": [
        {
          "output_type": "stream",
          "text": [
            "21\n",
            "23\n",
            "25\n",
            "27\n",
            "29\n",
            "31\n",
            "33\n",
            "35\n",
            "37\n",
            "39\n",
            "41\n",
            "43\n",
            "45\n",
            "47\n",
            "49\n"
          ],
          "name": "stdout"
        }
      ]
    },
    {
      "cell_type": "markdown",
      "metadata": {
        "id": "CZpydHtThdoR",
        "colab_type": "text"
      },
      "source": [
        "### Задача 3\n",
        "\n",
        "Для ряда целых чисел от 100 до 150 включительно выведите на экран только те, что делятся на 5 без остатка."
      ]
    },
    {
      "cell_type": "code",
      "metadata": {
        "id": "rH0wNmf-Qf8A",
        "colab_type": "code",
        "outputId": "51a71927-ea8b-4374-93a0-e265ef645e6c",
        "colab": {
          "base_uri": "https://localhost:8080/",
          "height": 204
        }
      },
      "source": [
        "for i in range(100, 151):\n",
        "  if i%5 == 0:\n",
        "    print(i)"
      ],
      "execution_count": 0,
      "outputs": [
        {
          "output_type": "stream",
          "text": [
            "100\n",
            "105\n",
            "110\n",
            "115\n",
            "120\n",
            "125\n",
            "130\n",
            "135\n",
            "140\n",
            "145\n",
            "150\n"
          ],
          "name": "stdout"
        }
      ]
    },
    {
      "cell_type": "markdown",
      "metadata": {
        "id": "_L4Bd414hdog",
        "colab_type": "text"
      },
      "source": [
        "### Задача 4\n",
        "\n",
        "С помощью функции input считайте с входящей строки целое положительное число и сохраните его в переменную N. Используя конструкцию if...else, выведите на экран результат в зависимости от условий:\n",
        "\n",
        "* Если N нечетное, то выведите на экран \"N нечетное\"\n",
        "* Если N четное и входит в интервал от 5 до 10 включительно, выведите на экран \"N четное и принадлежит интервалу [5, 10]\"\n",
        "* Если N четное и больше 10, выведите на экран \"N четное и N > 10\"\n",
        "* Если N четное и меньше 5, выведите на экран \"N четное и N < 5\""
      ]
    },
    {
      "cell_type": "code",
      "metadata": {
        "id": "lvM4uSY3RCR9",
        "colab_type": "code",
        "outputId": "c4c0a51a-7778-45a4-bbff-996f664d5fc5",
        "colab": {
          "base_uri": "https://localhost:8080/",
          "height": 51
        }
      },
      "source": [
        "N = int(input('Введите целое положительное число: '))\n",
        "if N % 2 !=0:\n",
        "  print('N нечетное')\n",
        "elif 5 <= N <= 10:\n",
        "  print('N четное и принадлежит интервалу [5, 10]')\n",
        "elif N > 10:\n",
        "  print('N четное и N > 10')\n",
        "elif N < 5:\n",
        "  print('N четное и N < 5')"
      ],
      "execution_count": 0,
      "outputs": [
        {
          "output_type": "stream",
          "text": [
            "Введите целое положительное число: 2\n",
            "N четное и N < 5\n"
          ],
          "name": "stdout"
        }
      ]
    },
    {
      "cell_type": "markdown",
      "metadata": {
        "id": "WQweBQ8nhdol",
        "colab_type": "text"
      },
      "source": [
        "### Задача 5\n",
        "\n",
        "Используя цикл while, посчитайте и выведите на экран сумму всех целых чисел от 15 до 22 включительно.\n"
      ]
    },
    {
      "cell_type": "code",
      "metadata": {
        "id": "R70iklGQS9tJ",
        "colab_type": "code",
        "outputId": "387a2794-9611-4abe-9e1b-5c79500a6bf6",
        "colab": {
          "base_uri": "https://localhost:8080/",
          "height": 34
        }
      },
      "source": [
        "a = 15\n",
        "b = 0\n",
        "while a <=22:\n",
        "  b = b + a\n",
        "  a +=1\n",
        "print(b)"
      ],
      "execution_count": 0,
      "outputs": [
        {
          "output_type": "stream",
          "text": [
            "148\n"
          ],
          "name": "stdout"
        }
      ]
    },
    {
      "cell_type": "markdown",
      "metadata": {
        "id": "YhJKiRAchdow",
        "colab_type": "text"
      },
      "source": [
        "### Задача 6\n",
        "\n",
        "Используя цикл for, найдите сумму всех элементов заданного списка (без использования встроенных функций sum, len, sort и т.д.)."
      ]
    },
    {
      "cell_type": "code",
      "metadata": {
        "id": "Im5W6TNGhdo6",
        "colab_type": "code",
        "outputId": "088a96dc-a281-4774-8b0d-0738e99c228a",
        "colab": {
          "base_uri": "https://localhost:8080/",
          "height": 34
        }
      },
      "source": [
        "my_list = [56, 23, 67, 45, 67, 2, 47, 158, 31, 34, 78, 23, 78, 23, 89, 23, 36]\n",
        "n = 0\n",
        "for i in my_list:\n",
        "  n = n + i\n",
        "print(n)"
      ],
      "execution_count": 0,
      "outputs": [
        {
          "output_type": "stream",
          "text": [
            "880\n"
          ],
          "name": "stdout"
        }
      ]
    },
    {
      "cell_type": "markdown",
      "metadata": {
        "id": "wIZELo0mhdpU",
        "colab_type": "text"
      },
      "source": [
        "### Задача 7\n",
        "\n",
        "Используя цикл (любой), найдите значение максимального элемента списка из предыдущего задания (без использования встроенных функций max и т.д.). Можно использовать встроенные методы списков (любые). \n",
        "\n",
        "P.S. Не стесняйтесь гуглить :)\n",
        "\n",
        "P.S. 2 Гуглить нужно фразу \"алгоритм поиска максимального элемента массива\".\n",
        "\n",
        "Пример: для списка [3, 4, 1, 7, 2] значением максимального элемента является число 7."
      ]
    },
    {
      "cell_type": "code",
      "metadata": {
        "id": "YNC8rAjYUxZc",
        "colab_type": "code",
        "outputId": "a092c984-4896-4667-c996-573d23293f50",
        "colab": {
          "base_uri": "https://localhost:8080/",
          "height": 34
        }
      },
      "source": [
        "n = 0\n",
        "for i in my_list:\n",
        "  if i > n:\n",
        "    n = i\n",
        "    i += 1\n",
        "print(n)"
      ],
      "execution_count": 0,
      "outputs": [
        {
          "output_type": "stream",
          "text": [
            "158\n"
          ],
          "name": "stdout"
        }
      ]
    },
    {
      "cell_type": "markdown",
      "metadata": {
        "id": "omPfU7u9hdpi",
        "colab_type": "text"
      },
      "source": [
        "### Задача 8\n",
        "\n",
        "Создайте словарь, соответствующий следующему описанию. \n",
        "    \n",
        "В честь 8 марта начальник отдела Валера решил принести на работу коробку конфет и угостить коллег :) Красотка Наташа съела две конфеты, ее подруга Алина - целых три, разработчик Марат унес с собой в соседний опен-спейс целых пятнадцать, чтобы поделиться со своей командой, менеджер проекта Лев проходил мимо и съел одну конфету, а сам Валера, будучи сторонником здорового образа жизни, не съел ни одной.\n",
        "\n",
        "P.S. Все совпадения случайны :)"
      ]
    },
    {
      "cell_type": "code",
      "metadata": {
        "id": "mVOnUHxuW3Uj",
        "colab_type": "code",
        "outputId": "f7cda6ff-79cc-4ebc-990d-518c3752df11",
        "colab": {
          "base_uri": "https://localhost:8080/",
          "height": 34
        }
      },
      "source": [
        "my_dict = {'Natasha' : 2, \n",
        "           'Alina' : 3, \n",
        "           'Marat' : 15,\n",
        "           'Lev' : 1,\n",
        "           'Valera': 0\n",
        "          } # Создаем словарь значение\n",
        "my_dict # Отображаем созданный словарь"
      ],
      "execution_count": 0,
      "outputs": [
        {
          "output_type": "execute_result",
          "data": {
            "text/plain": [
              "{'Alina': 3, 'Lev': 1, 'Marat': 15, 'Natasha': 2, 'Valera': 0}"
            ]
          },
          "metadata": {
            "tags": []
          },
          "execution_count": 24
        }
      ]
    },
    {
      "cell_type": "markdown",
      "metadata": {
        "id": "UUK9d5hUhdpz",
        "colab_type": "text"
      },
      "source": [
        "### Задача 9\n",
        "\n",
        "Добавьте в словарь из предыдущего задания данные для студента Ромы, который работает неполный рабочий день, и, придя на работу после экзамена, с удовольствием съел 4 конфеты.\n",
        "\n",
        "P.S. Используйте встроенный метод .update"
      ]
    },
    {
      "cell_type": "code",
      "metadata": {
        "id": "Fc4I1VwVX1uV",
        "colab_type": "code",
        "outputId": "fda5ea1c-4ced-471f-ab2a-2f5ff64375ea",
        "colab": {
          "base_uri": "https://localhost:8080/",
          "height": 34
        }
      },
      "source": [
        "my_dict.update({'Roma' : 4}) #Добавляет элемент в конец списка\n",
        "my_dict # Отображаем созданный словарь"
      ],
      "execution_count": 0,
      "outputs": [
        {
          "output_type": "execute_result",
          "data": {
            "text/plain": [
              "{'Alina': 3, 'Lev': 1, 'Marat': 15, 'Natasha': 2, 'Roma': 4, 'Valera': 0}"
            ]
          },
          "metadata": {
            "tags": []
          },
          "execution_count": 26
        }
      ]
    },
    {
      "cell_type": "markdown",
      "metadata": {
        "id": "vpQOcxmhhdp9",
        "colab_type": "text"
      },
      "source": [
        "## Pro-версия"
      ]
    },
    {
      "cell_type": "markdown",
      "metadata": {
        "id": "g9pd3inChdqC",
        "colab_type": "text"
      },
      "source": [
        "### Задача 1\n",
        "\n",
        "Выведите на экран следующий паттерн:\n",
        "\n",
        "@\n",
        "\n",
        "@ @\n",
        "\n",
        "@ @ @\n",
        "\n",
        "@ @ @ @ @\n",
        "\n",
        "Обратите внимание на пробел между символами. Рекомендуется использовать циклы (любые) для решения данного задания."
      ]
    },
    {
      "cell_type": "code",
      "metadata": {
        "id": "UWznECPFYsXk",
        "colab_type": "code",
        "outputId": "293cdfcc-19f3-4592-f1ae-6127cd26974b",
        "colab": {
          "base_uri": "https://localhost:8080/",
          "height": 153
        }
      },
      "source": [
        "p = '@'\n",
        "i = 1\n",
        "while i <=5:\n",
        "  if i == 4:\n",
        "    i +=1\n",
        "    continue\n",
        "  print((p + ' ') * i)\n",
        "  print()\n",
        "  i +=1"
      ],
      "execution_count": 0,
      "outputs": [
        {
          "output_type": "stream",
          "text": [
            "@ \n",
            "\n",
            "@ @ \n",
            "\n",
            "@ @ @ \n",
            "\n",
            "@ @ @ @ @ \n",
            "\n"
          ],
          "name": "stdout"
        }
      ]
    },
    {
      "cell_type": "markdown",
      "metadata": {
        "id": "3VBX8P3nZJh-",
        "colab_type": "text"
      },
      "source": [
        ""
      ]
    },
    {
      "cell_type": "markdown",
      "metadata": {
        "id": "Vh7SqVB5hdqL",
        "colab_type": "text"
      },
      "source": [
        "### Задача 2\n",
        "\n",
        "Выведите на экран следующий паттерн:\n",
        "\n",
        "1\n",
        "\n",
        "2 2 \n",
        "\n",
        "3 3 3 \n",
        "\n",
        "4 4 4 4 \n",
        "\n",
        "5 5 5 5 5\n",
        "\n",
        "6 6 6 6\n",
        "\n",
        "7 7 7\n",
        "\n",
        "8 8\n",
        "\n",
        "9\n",
        "\n",
        "Обратите внимание на пробел между символами. Обратите внимание на пробел между символами. Рекомендуется использовать циклы (любые) для решения данного задания."
      ]
    },
    {
      "cell_type": "code",
      "metadata": {
        "id": "sMVIDP0saM1f",
        "colab_type": "code",
        "outputId": "5db14ce8-adb1-48a6-92c0-a6c5767618b1",
        "colab": {
          "base_uri": "https://localhost:8080/",
          "height": 324
        }
      },
      "source": [
        "for i in range(1, 10):\n",
        "  if i > 5:\n",
        "    print((str(i) + ' ') * (10 - i))\n",
        "    print()\n",
        "  else:\n",
        "    print((str(i) + ' ') * i)\n",
        "    print()\n",
        "  i -= 1\n",
        "\n",
        "  "
      ],
      "execution_count": 0,
      "outputs": [
        {
          "output_type": "stream",
          "text": [
            "1 \n",
            "\n",
            "2 2 \n",
            "\n",
            "3 3 3 \n",
            "\n",
            "4 4 4 4 \n",
            "\n",
            "5 5 5 5 5 \n",
            "\n",
            "6 6 6 6 \n",
            "\n",
            "7 7 7 \n",
            "\n",
            "8 8 \n",
            "\n",
            "9 \n",
            "\n"
          ],
          "name": "stdout"
        }
      ]
    },
    {
      "cell_type": "markdown",
      "metadata": {
        "id": "IMoF_J7AhdqT",
        "colab_type": "text"
      },
      "source": [
        "### Задача 3\n",
        "\n",
        "Используя цикл while, выведите на экран таблицу умножения для числа 7.\n",
        "\n",
        "**Пример:**\n",
        "    \n",
        "Для числе 5 выдача выглядит так:\n",
        "    \n",
        "5 * 1 = 5\n",
        "\n",
        "5 * 2 = 10\n",
        "\n",
        "5 * 3 = 15\n",
        "\n",
        "5 * 4 = 20\n",
        "\n",
        "5 * 5 = 25\n",
        "\n",
        "...\n",
        "\n",
        "5 * 9 = 45"
      ]
    },
    {
      "cell_type": "code",
      "metadata": {
        "id": "zuGCFCn-b874",
        "colab_type": "code",
        "outputId": "d91b22d1-f50b-4cae-f324-7ef9c04d41ce",
        "colab": {
          "base_uri": "https://localhost:8080/",
          "height": 341
        }
      },
      "source": [
        "c = int(input('Введите целое число: '))\n",
        "i = 1\n",
        "while i < 10:\n",
        "  print(c, ' * ', i, ' = ', c*i)\n",
        "  print()\n",
        "  i += 1"
      ],
      "execution_count": 0,
      "outputs": [
        {
          "output_type": "stream",
          "text": [
            "Введите целое число: 7\n",
            "7  *  1  =  7\n",
            "\n",
            "7  *  2  =  14\n",
            "\n",
            "7  *  3  =  21\n",
            "\n",
            "7  *  4  =  28\n",
            "\n",
            "7  *  5  =  35\n",
            "\n",
            "7  *  6  =  42\n",
            "\n",
            "7  *  7  =  49\n",
            "\n",
            "7  *  8  =  56\n",
            "\n",
            "7  *  9  =  63\n",
            "\n"
          ],
          "name": "stdout"
        }
      ]
    },
    {
      "cell_type": "markdown",
      "metadata": {
        "id": "rvEbKNeIhdqY",
        "colab_type": "text"
      },
      "source": [
        "### Задача 4\n",
        "\n",
        "Представьте, что вы подбрасываете два кубика одновременно. Считайте с входящей строки два целых числа d1 и d2. Проверьте, соответсуют ли введенные числа интервалу значений для кубика. Если нет, то выведите на экран строку \"Ошибка! Значение на кубике (1 или 2, вставьте подходящее значение) не входит в интервал [1, 6]\". В противном случае посчитайте сумму выпавших значений. Если сумма равна 7 или 11, выведите на экран \"Я победил!!!\". Если сумма равна 2, 3 или 12, то выведите на экран \"Я проиграл :(\". Во всех остальных случаях выведите на экран сумму значений.\n"
      ]
    },
    {
      "cell_type": "code",
      "metadata": {
        "id": "cMszBsg4eP3m",
        "colab_type": "code",
        "outputId": "c5dc8c43-eecb-4bf4-d8c6-d73bc4f452cb",
        "colab": {
          "base_uri": "https://localhost:8080/",
          "height": 85
        }
      },
      "source": [
        "d1 = int(input('Выберите число для 1-го кубика: '))\n",
        "d2 = int(input('Выберите число для 2-го кубика: '))\n",
        "if d1 < 1 or d1 > 6 or d2 < 1 or d2 > 6:\n",
        "  if d1 < 1 or d1 > 6:\n",
        "    print('Ошибка! Значение на кубике 1 не входит в интервал [1, 6]')\n",
        "  if d2 < 1 or d2 > 6:\n",
        "    print('Ошибка! Значение на кубике 2 не входит в интервал [1, 6]')\n",
        "else:\n",
        "  if d1 + d2 == 7 or d1 + d2 == 11:\n",
        "    print('Я победил!!!')\n",
        "  elif d1 + d2 == 2 or d1 + d2 == 3 or d1 + d2 == 12:\n",
        "    print('Я проиграл :(')\n",
        "  else:\n",
        "    print('Сумма значений равна ', d1 + d2)"
      ],
      "execution_count": 0,
      "outputs": [
        {
          "output_type": "stream",
          "text": [
            "Выберите число для 1-го кубика: 0\n",
            "Выберите число для 2-го кубика: 0\n",
            "Ошибка! Значение на кубике 1 не входит в интервал [1, 6]\n",
            "Ошибка! Значение на кубике 2 не входит в интервал [1, 6]\n"
          ],
          "name": "stdout"
        }
      ]
    },
    {
      "cell_type": "markdown",
      "metadata": {
        "id": "OTSU9QTLhdqe",
        "colab_type": "text"
      },
      "source": [
        "### Задача 5\n",
        "\n",
        "Напишите код, который ищет все числа в интервале от 3000 до 4300 включительно, делящиеся на 11, но не делящиеся на 5. Выведите на экран все найденные числа."
      ]
    },
    {
      "cell_type": "code",
      "metadata": {
        "id": "laBexFWalVMe",
        "colab_type": "code",
        "outputId": "23dc50cf-74da-474c-ad1b-070578be8c0c",
        "colab": {
          "base_uri": "https://localhost:8080/",
          "height": 1000
        }
      },
      "source": [
        "for i in range(3000, 4301):\n",
        "  if i % 11 == 0 and i % 5 != 0:\n",
        "    print(i)"
      ],
      "execution_count": 0,
      "outputs": [
        {
          "output_type": "stream",
          "text": [
            "3003\n",
            "3014\n",
            "3036\n",
            "3047\n",
            "3058\n",
            "3069\n",
            "3091\n",
            "3102\n",
            "3113\n",
            "3124\n",
            "3146\n",
            "3157\n",
            "3168\n",
            "3179\n",
            "3201\n",
            "3212\n",
            "3223\n",
            "3234\n",
            "3256\n",
            "3267\n",
            "3278\n",
            "3289\n",
            "3311\n",
            "3322\n",
            "3333\n",
            "3344\n",
            "3366\n",
            "3377\n",
            "3388\n",
            "3399\n",
            "3421\n",
            "3432\n",
            "3443\n",
            "3454\n",
            "3476\n",
            "3487\n",
            "3498\n",
            "3509\n",
            "3531\n",
            "3542\n",
            "3553\n",
            "3564\n",
            "3586\n",
            "3597\n",
            "3608\n",
            "3619\n",
            "3641\n",
            "3652\n",
            "3663\n",
            "3674\n",
            "3696\n",
            "3707\n",
            "3718\n",
            "3729\n",
            "3751\n",
            "3762\n",
            "3773\n",
            "3784\n",
            "3806\n",
            "3817\n",
            "3828\n",
            "3839\n",
            "3861\n",
            "3872\n",
            "3883\n",
            "3894\n",
            "3916\n",
            "3927\n",
            "3938\n",
            "3949\n",
            "3971\n",
            "3982\n",
            "3993\n",
            "4004\n",
            "4026\n",
            "4037\n",
            "4048\n",
            "4059\n",
            "4081\n",
            "4092\n",
            "4103\n",
            "4114\n",
            "4136\n",
            "4147\n",
            "4158\n",
            "4169\n",
            "4191\n",
            "4202\n",
            "4213\n",
            "4224\n",
            "4246\n",
            "4257\n",
            "4268\n",
            "4279\n"
          ],
          "name": "stdout"
        }
      ]
    },
    {
      "cell_type": "markdown",
      "metadata": {
        "id": "m-pYH0xDhdqk",
        "colab_type": "text"
      },
      "source": [
        "### Задача 6\n",
        "\n",
        "Используя циклы, напишите код, который создает список (list) путем конкатенации значений данного листа с целыми числами от 1 до (произвольного) n включительно.\n",
        "\n",
        "Пример:\n",
        "\n",
        "для списка [\"сосиски\", \"горчица\"] при n = 3 результат должен выглядеть так:\n",
        "\n",
        "['сосиски$\\_$1', 'горчица$\\_$1', 'сосиски$\\_2$', 'горчица$\\_$2', 'сосиски$\\_$3', 'горчица$\\_$3']"
      ]
    },
    {
      "cell_type": "code",
      "metadata": {
        "id": "Eqz3zAL-hdqq",
        "colab_type": "code",
        "colab": {
          "base_uri": "https://localhost:8080/",
          "height": 71
        },
        "outputId": "78525b57-297d-4c09-b549-0bbd6139c41f"
      },
      "source": [
        "sample_list = [\"мандаринки\", \"киви\", \"лимон\"]\n",
        "n = int(input('Введите целое число: '))\n",
        "my_list = []\n",
        "a = 1\n",
        "while a<=n:\n",
        "  for i in sample_list:\n",
        "    my_list.append(str(i + '_' + str(a)))\n",
        "  a += 1\n",
        "print(my_list)"
      ],
      "execution_count": 66,
      "outputs": [
        {
          "output_type": "stream",
          "text": [
            "Введите целое число: 3\n",
            "['мандаринки_1', 'киви_1', 'лимон_1', 'мандаринки_2', 'киви_2', 'лимон_2', 'мандаринки_3', 'киви_3', 'лимон_3']\n"
          ],
          "name": "stdout"
        }
      ]
    },
    {
      "cell_type": "markdown",
      "metadata": {
        "id": "WtwsV6BRhdrE",
        "colab_type": "text"
      },
      "source": [
        "### Задача 7\n",
        "\n",
        "Напишите код, который считает количество элементов в заданном списке до тех пор, пока не встретится элемент типа словарь.\n",
        "\n",
        "Пример:\n",
        "\n",
        "для списка [3, \"котики\", 0.45, 5, {'котики' : 2, 'слоники' : 9}, \"слоники\", 34] на выходе должны получить число 4"
      ]
    },
    {
      "cell_type": "code",
      "metadata": {
        "id": "m5iv-Hj9hdrM",
        "colab_type": "code",
        "outputId": "4d03e5ed-4add-4460-8667-46c763e1fdcc",
        "colab": {
          "base_uri": "https://localhost:8080/",
          "height": 51
        }
      },
      "source": [
        "list_for_pro_task_2 = [35, 0.24, 3 + 4j, \"котики\", 0.45, (8, 9), \"слоники\", {\"Мадрид\": 3, 'Лондон':5}, 23498]\n",
        "print(list_for_pro_task_2)\n",
        "a = 0\n",
        "while type(list_for_pro_task_2[a]) != dict:\n",
        "  a += 1\n",
        "print(a)"
      ],
      "execution_count": 67,
      "outputs": [
        {
          "output_type": "stream",
          "text": [
            "[35, 0.24, (3+4j), 'котики', 0.45, (8, 9), 'слоники', {'Мадрид': 3, 'Лондон': 5}, 23498]\n",
            "7\n"
          ],
          "name": "stdout"
        }
      ]
    },
    {
      "cell_type": "markdown",
      "metadata": {
        "id": "fHMBDh-ahdrz",
        "colab_type": "text"
      },
      "source": [
        "### Задача 8\n",
        "\n",
        "Создайте словарь (dict) c ключами, соответствующими числам от 1 до 20 включительно и значениями, соответствующими квадратам ключей. \n",
        "\n",
        "P.S. Используйте циклы или функции, прямое \"ручное\" присваивание не допускается (!!!)\n",
        "\n",
        "Пример: \n",
        "\n",
        "для чисел от 1 до 3 включительно словарь должен выглядеть так: {1 : 1, 2 : 4, 3 : 9}"
      ]
    },
    {
      "cell_type": "code",
      "metadata": {
        "id": "hIZEK11doh3f",
        "colab_type": "code",
        "colab": {
          "base_uri": "https://localhost:8080/",
          "height": 54
        },
        "outputId": "4a010e02-9ffb-43b7-830a-a9fadb9efc12"
      },
      "source": [
        "my_dict1 = {}\n",
        "for i in range (1,21):\n",
        "  my_dict1.update({i : i ** 2})\n",
        "print(my_dict1)"
      ],
      "execution_count": 68,
      "outputs": [
        {
          "output_type": "stream",
          "text": [
            "{1: 1, 2: 4, 3: 9, 4: 16, 5: 25, 6: 36, 7: 49, 8: 64, 9: 81, 10: 100, 11: 121, 12: 144, 13: 169, 14: 196, 15: 225, 16: 256, 17: 289, 18: 324, 19: 361, 20: 400}\n"
          ],
          "name": "stdout"
        }
      ]
    }
  ]
}